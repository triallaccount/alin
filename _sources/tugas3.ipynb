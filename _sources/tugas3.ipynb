{
 "cells": [
  {
   "cell_type": "code",
   "execution_count": 1,
   "metadata": {},
   "outputs": [
    {
     "name": "stdout",
     "output_type": "stream",
     "text": [
      "[[ 2 -3  4]\n",
      " [-1 -2  1]\n",
      " [ 4 -5  7]]\n",
      "[[-2  1 -6]\n",
      " [ 4 -3  9]]\n"
     ]
    }
   ],
   "source": [
    "import numpy as np\n",
    "A = np.array([[1,3,-2],[2,4,-1],[3,-6,8]])\n",
    "B = np.array([[2,-3,4],[-1,-2,1],[4,-5,7]])\n",
    "C = np.array([[-2,1,-6],[4,-3,9]])\n",
    "D = np.array([[2,8,2],[-4,5,6],[7,-3,1]])\n",
    "print(B)\n",
    "print(C)"
   ]
  },
  {
   "cell_type": "code",
   "execution_count": 2,
   "metadata": {},
   "outputs": [
    {
     "name": "stdout",
     "output_type": "stream",
     "text": [
      "[[0 6 8]\n",
      " [1 7 2]\n",
      " [4 5 3]]\n"
     ]
    }
   ],
   "source": [
    "# Cara buat matrix dengan cepat menggunakan bilangan yang random\n",
    "\n",
    "#A = np.random.randint(10,size=(3,3))\n",
    "#print(A)"
   ]
  },
  {
   "cell_type": "markdown",
   "metadata": {},
   "source": [
    "# **Operasi-operasi Matrik**\n",
    "1. Matriks dalam bentuk apapun dapat dikalikan dengan skalar *c, d*."
   ]
  },
  {
   "cell_type": "code",
   "execution_count": 3,
   "metadata": {},
   "outputs": [
    {
     "name": "stdout",
     "output_type": "stream",
     "text": [
      "e = 6\n",
      "G = [[ 0 36 48]\n",
      " [ 6 42 12]\n",
      " [24 30 18]]\n",
      "H = [[ 0 36 48]\n",
      " [ 6 42 12]\n",
      " [24 30 18]]\n"
     ]
    }
   ],
   "source": [
    "c = 2\n",
    "d = 4\n",
    "e = c + d\n",
    "G = (c+d)*A\n",
    "H = (c*A) + (d*A)\n",
    "print('e =', e)\n",
    "print('G =', G)\n",
    "print('H =', H)"
   ]
  },
  {
   "cell_type": "markdown",
   "metadata": {},
   "source": [
    "2. Matriks yang ukurannya sama bisa dijumlahkan. Hasilnya adalah semua elemen yang bersesuaian dan ditambah dalam bentuk."
   ]
  },
  {
   "cell_type": "code",
   "execution_count": 4,
   "metadata": {},
   "outputs": [
    {
     "name": "stdout",
     "output_type": "stream",
     "text": [
      "K = [[ 2  3 12]\n",
      " [ 0  5  3]\n",
      " [ 8  0 10]]\n"
     ]
    }
   ],
   "source": [
    "K = A + B\n",
    "#L = A + C\n",
    "print('K =', K)\n",
    "#print('L =', L)"
   ]
  },
  {
   "cell_type": "markdown",
   "metadata": {},
   "source": [
    "3. Jika banyaknya kolom dari matrix ***A*** adalah sama dengan banyaknya baris matrik ***B***, maka kedua matrik dapat dikalikan dalam bentuk perkalian ***A,B***. Dengan jumlah baris yang mengikuti matriks A dan kolom mengikuti matriks B."
   ]
  },
  {
   "cell_type": "code",
   "execution_count": 5,
   "metadata": {},
   "outputs": [
    {
     "name": "stdout",
     "output_type": "stream",
     "text": [
      "(2, 3)\n",
      "2\n",
      "3\n"
     ]
    }
   ],
   "source": [
    "#Cara menentukan ukuran matriks:\n",
    "#  namamatriks.shape\n",
    "print(C.shape)\n",
    "\n",
    "#Cara menentukan jumlah baris:\n",
    "#  namamatriks.shape[0]\n",
    "print(C.shape[0])\n",
    "\n",
    "#Cara menentukan jumlah kolom:\n",
    "#  namamatriks.shape[1]\n",
    "print(C.shape[1])"
   ]
  },
  {
   "cell_type": "code",
   "execution_count": 6,
   "metadata": {},
   "outputs": [
    {
     "name": "stdout",
     "output_type": "stream",
     "text": [
      "[[  0 -18  32]\n",
      " [ -1 -14   2]\n",
      " [ 16 -25  21]]\n"
     ]
    }
   ],
   "source": [
    "print(A*B)"
   ]
  },
  {
   "cell_type": "code",
   "execution_count": 7,
   "metadata": {},
   "outputs": [
    {
     "name": "stdout",
     "output_type": "stream",
     "text": [
      "[[ 26 -52  62]\n",
      " [  3 -27  25]\n",
      " [ 15 -37  42]]\n"
     ]
    }
   ],
   "source": [
    "print(A@B)"
   ]
  },
  {
   "cell_type": "code",
   "execution_count": 8,
   "metadata": {},
   "outputs": [
    {
     "ename": "ValueError",
     "evalue": "matmul: Input operand 1 has a mismatch in its core dimension 0, with gufunc signature (n?,k),(k,m?)->(n?,m?) (size 2 is different from 3)",
     "output_type": "error",
     "traceback": [
      "\u001b[0;31m---------------------------------------------------------------------------\u001b[0m",
      "\u001b[0;31mValueError\u001b[0m                                Traceback (most recent call last)",
      "Cell \u001b[0;32mIn[8], line 1\u001b[0m\n\u001b[0;32m----> 1\u001b[0m \u001b[38;5;28mprint\u001b[39m(\u001b[43mA\u001b[49m\u001b[38;5;129;43m@C\u001b[39;49m)\n",
      "\u001b[0;31mValueError\u001b[0m: matmul: Input operand 1 has a mismatch in its core dimension 0, with gufunc signature (n?,k),(k,m?)->(n?,m?) (size 2 is different from 3)"
     ]
    }
   ],
   "source": [
    "print(A@C)"
   ]
  },
  {
   "cell_type": "markdown",
   "metadata": {},
   "source": [
    "# **Matriks Transpose**\n",
    "(Baris jadi kolom, dan sebaliknya)\n",
    "Transpose matriks A......\n",
    "\n",
    "note : Matriks Covarian adalah matriks awal dikali matriks transposenya."
   ]
  },
  {
   "cell_type": "code",
   "execution_count": 9,
   "metadata": {},
   "outputs": [
    {
     "name": "stdout",
     "output_type": "stream",
     "text": [
      "[[0 6 8]\n",
      " [1 7 2]\n",
      " [4 5 3]]\n",
      " \n",
      "[[0 1 4]\n",
      " [6 7 5]\n",
      " [8 2 3]]\n"
     ]
    }
   ],
   "source": [
    "A_T = A.transpose()\n",
    "print(A)\n",
    "print(\" \")\n",
    "print(A_T)"
   ]
  },
  {
   "cell_type": "code",
   "execution_count": 10,
   "metadata": {},
   "outputs": [
    {
     "ename": "ValueError",
     "evalue": "operands could not be broadcast together with shapes (2,3) (3,2) ",
     "output_type": "error",
     "traceback": [
      "\u001b[0;31m---------------------------------------------------------------------------\u001b[0m",
      "\u001b[0;31mValueError\u001b[0m                                Traceback (most recent call last)",
      "Cell \u001b[0;32mIn[10], line 2\u001b[0m\n\u001b[1;32m      1\u001b[0m C_T \u001b[38;5;241m=\u001b[39m C\u001b[38;5;241m.\u001b[39mtranspose()\n\u001b[0;32m----> 2\u001b[0m CoV \u001b[38;5;241m=\u001b[39m \u001b[43mC\u001b[49m\u001b[38;5;241;43m*\u001b[39;49m\u001b[43mC_T\u001b[49m\n\u001b[1;32m      3\u001b[0m \u001b[38;5;28mprint\u001b[39m(CoV\u001b[38;5;241m.\u001b[39mshape)\n",
      "\u001b[0;31mValueError\u001b[0m: operands could not be broadcast together with shapes (2,3) (3,2) "
     ]
    }
   ],
   "source": [
    "C_T = C.transpose()\n",
    "CoV = C*C_T\n",
    "print(CoV.shape)"
   ]
  },
  {
   "cell_type": "code",
   "execution_count": 11,
   "metadata": {},
   "outputs": [
    {
     "name": "stdout",
     "output_type": "stream",
     "text": [
      "[[10  3 -2]\n",
      " [ 2  4 -1]\n",
      " [ 3 -6  8]]\n",
      " \n",
      "[[10  2  3]\n",
      " [ 3  4 -6]\n",
      " [-2 -1  8]]\n"
     ]
    }
   ],
   "source": [
    "A = np.array([[10,3,-2],[2,4,-1],[3,-6,8]])\n",
    "print(A)\n",
    "print(\" \")\n",
    "\n",
    "A_T = A.transpose()\n",
    "print(A_T)"
   ]
  },
  {
   "cell_type": "code",
   "execution_count": 12,
   "metadata": {},
   "outputs": [
    {
     "name": "stdout",
     "output_type": "stream",
     "text": [
      "[[  4 -72 -16]\n",
      " [  8 -40  -6]\n",
      " [ 84 -90  56]]\n",
      " \n",
      "[[  4   8  84]\n",
      " [-72 -40 -90]\n",
      " [-16  -6  56]]\n",
      " \n",
      " \n",
      "[[  4   8  84]\n",
      " [-72 -40 -90]\n",
      " [-16  -6  56]]\n",
      " \n",
      " \n",
      "[[ 6 -4 49]\n",
      " [ 0 10 33]\n",
      " [ 4  0 15]]\n",
      " \n",
      " \n"
     ]
    },
    {
     "ename": "ValueError",
     "evalue": "operands could not be broadcast together with shapes (3,3) (2,3) ",
     "output_type": "error",
     "traceback": [
      "\u001b[0;31m---------------------------------------------------------------------------\u001b[0m",
      "\u001b[0;31mValueError\u001b[0m                                Traceback (most recent call last)",
      "Cell \u001b[0;32mIn[12], line 24\u001b[0m\n\u001b[1;32m     22\u001b[0m \u001b[38;5;28mprint\u001b[39m(\u001b[38;5;124m\"\u001b[39m\u001b[38;5;124m \u001b[39m\u001b[38;5;124m\"\u001b[39m)\n\u001b[1;32m     23\u001b[0m \u001b[38;5;28mprint\u001b[39m(\u001b[38;5;124m\"\u001b[39m\u001b[38;5;124m \u001b[39m\u001b[38;5;124m\"\u001b[39m)\n\u001b[0;32m---> 24\u001b[0m abc \u001b[38;5;241m=\u001b[39m \u001b[43m(\u001b[49m\u001b[43mA\u001b[49m\u001b[38;5;241;43m+\u001b[39;49m\u001b[43mB\u001b[49m\u001b[43m)\u001b[49m\u001b[38;5;241;43m*\u001b[39;49m\u001b[43mC\u001b[49m\n\u001b[1;32m     25\u001b[0m ABC \u001b[38;5;241m=\u001b[39m abc\u001b[38;5;241m.\u001b[39mtranspose()\n\u001b[1;32m     26\u001b[0m \u001b[38;5;28mprint\u001b[39m(ABC)\n",
      "\u001b[0;31mValueError\u001b[0m: operands could not be broadcast together with shapes (3,3) (2,3) "
     ]
    }
   ],
   "source": [
    "import numpy as np\n",
    "A = np.array([[1,3,-2],[2,4,-1],[3,-6,8]])\n",
    "B = np.array([[2,-3,4],[-1,-2,1],[4,-5,7]])\n",
    "C = np.array([[-2,1,-6],[4,-3,9]])\n",
    "D = np.array([[2,8,2],[-4,5,6],[7,-3,1]])\n",
    "t = A*B*D\n",
    "print(t)\n",
    "print(\" \")\n",
    "tt = t.transpose()\n",
    "print(tt)\n",
    "print(\" \")\n",
    "print(\" \")\n",
    "a = A.transpose()\n",
    "b = B.transpose()\n",
    "dd = D.transpose()\n",
    "print(a*b*dd)\n",
    "print(\" \")\n",
    "print(\" \")\n",
    "abd = (A+B)*D\n",
    "ABD = abd.transpose()\n",
    "print(ABD)\n",
    "print(\" \")\n",
    "print(\" \")\n",
    "abc = (A+B)*C\n",
    "ABC = abc.transpose()\n",
    "print(ABC)"
   ]
  },
  {
   "cell_type": "markdown",
   "metadata": {},
   "source": [
    "# **Matriks Elementer**"
   ]
  },
  {
   "cell_type": "code",
   "execution_count": 13,
   "metadata": {},
   "outputs": [
    {
     "ename": "NameError",
     "evalue": "name 'R_3' is not defined",
     "output_type": "error",
     "traceback": [
      "\u001b[0;31m---------------------------------------------------------------------------\u001b[0m",
      "\u001b[0;31mNameError\u001b[0m                                 Traceback (most recent call last)",
      "Cell \u001b[0;32mIn[13], line 1\u001b[0m\n\u001b[0;32m----> 1\u001b[0m \u001b[43mR_3\u001b[49m \u001b[38;5;241m-\u001b[39m \u001b[38;5;241m7\u001b[39m\u001b[38;5;241m*\u001b[39mR_1\n",
      "\u001b[0;31mNameError\u001b[0m: name 'R_3' is not defined"
     ]
    }
   ],
   "source": [
    "R_3 - 7*R_1"
   ]
  }
 ],
 "metadata": {
  "kernelspec": {
   "display_name": "Python 3",
   "language": "python",
   "name": "python3"
  },
  "language_info": {
   "codemirror_mode": {
    "name": "ipython",
    "version": 3
   },
   "file_extension": ".py",
   "mimetype": "text/x-python",
   "name": "python",
   "nbconvert_exporter": "python",
   "pygments_lexer": "ipython3",
   "version": "3.10.13"
  }
 },
 "nbformat": 4,
 "nbformat_minor": 2
}
