{
 "cells": [
  {
   "cell_type": "markdown",
   "metadata": {},
   "source": [
    "Berikut untuk pengantar tugas-nya :\n",
    "\n",
    "[Tugas Video](https://youtu.be/PBmeWXt0-6o?si=bYkrxj3w1ZwK7I4W)"
   ]
  }
 ],
 "metadata": {
  "language_info": {
   "name": "python"
  }
 },
 "nbformat": 4,
 "nbformat_minor": 2
}
